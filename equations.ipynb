{
  "nbformat": 4,
  "nbformat_minor": 0,
  "metadata": {
    "colab": {
      "name": "equations.ipynb",
      "provenance": [],
      "collapsed_sections": []
    },
    "kernelspec": {
      "name": "python3",
      "display_name": "Python 3"
    },
    "language_info": {
      "name": "python"
    }
  },
  "cells": [
    {
      "cell_type": "code",
      "execution_count": 1,
      "metadata": {
        "id": "t9df141SwyR_"
      },
      "outputs": [],
      "source": [
        "import pandas as pd\n",
        "import numpy as np\n",
        "import matplotlib.pyplot as plt\n",
        "plt.style.use('ggplot')\n",
        "import math\n",
        "from sklearn.linear_model import LinearRegression\n",
        "from sklearn.linear_model import Ridge, Lasso, ElasticNet\n",
        "import warnings\n",
        "warnings.filterwarnings(\"ignore\")"
      ]
    },
    {
      "cell_type": "code",
      "source": [
        "!gdown --folder 18tPh3vljXUWLlfQV4GDdLlrvKJpuSRcU -q"
      ],
      "metadata": {
        "id": "o4hFpHB8Cijp"
      },
      "execution_count": 2,
      "outputs": []
    },
    {
      "cell_type": "code",
      "source": [
        "data1=pd.read_csv('data/PRICES_HISTORY_DAILY.csv', sep = ';')\n",
        "data2=pd.read_csv('data/TRANSACTIONS_HISTORY.csv')\n",
        "data2 = data2.drop('TRANSACTION_ID', 1)\n",
        "data2 = data2.drop('CUSTOMER_ID', 1)"
      ],
      "metadata": {
        "id": "Gmk1a0NayOXq"
      },
      "execution_count": 3,
      "outputs": []
    },
    {
      "cell_type": "code",
      "source": [
        "tmp = pd.merge(data1, data2, how='inner', on=['PRODUCT_ID', 'DATE', 'STORE_ID']).drop_duplicates(subset=['PRODUCT_ID', 'DATE', 'STORE_ID'], keep=\"first\")"
      ],
      "metadata": {
        "id": "NjuFaxKIyUTS"
      },
      "execution_count": 4,
      "outputs": []
    },
    {
      "cell_type": "code",
      "source": [
        "tmp0=tmp\n",
        "tmp0=tmp0.query('PRICE_TYPE != 0')\n",
        "tmp0.to_csv('start_without_promo.csv', index=False)"
      ],
      "metadata": {
        "id": "bLVp6Vq_yVCo"
      },
      "execution_count": 5,
      "outputs": []
    },
    {
      "cell_type": "code",
      "source": [
        "tmp = tmp.replace({'STORE_ID':{'DC01':0, 'DC02':1}})\n",
        "tmp = tmp.replace({'PRICE_TYPE':{'PROMO':0, 'REGULAR':1}})\n",
        "tmp = tmp.drop(['DATE', 'PRICE_TYPE'], 1)"
      ],
      "metadata": {
        "id": "a6dcsVSdyVJM"
      },
      "execution_count": 6,
      "outputs": []
    },
    {
      "cell_type": "code",
      "source": [
        "df=tmp\n",
        "df.loc[df['STORE_ID']==0, 'PRODUCT_ID'] *= 10\n",
        "df.loc[df['STORE_ID']==1, 'PRODUCT_ID'] *= 10\n",
        "df.loc[df['STORE_ID']==1, 'PRODUCT_ID'] += 1\n",
        "df_plus=df\n",
        "df_plus = df_plus.assign(price_plus=df.PRICE+5)\n",
        "df_plus=df_plus.drop('PRICE', 1)"
      ],
      "metadata": {
        "id": "i88GGANIyVLz"
      },
      "execution_count": 7,
      "outputs": []
    },
    {
      "cell_type": "code",
      "source": [
        "coef_dict = dict()\n",
        "prods_list = []\n",
        "coef_list = []\n",
        "for prod in tmp['PRODUCT_ID'].unique():\n",
        "    df=tmp[tmp['PRODUCT_ID']==prod]\n",
        "    X = df['PRICE'].values.reshape(-1,1)\n",
        "    y = df['QNT']\n",
        "\n",
        "    reg_qnt0 = LinearRegression()\n",
        "    reg_qnt0.fit(X, y)\n",
        "    coef_dict[prod] = [reg_qnt0.intercept_, reg_qnt0.coef_[0]]\n",
        "    coef_dict"
      ],
      "metadata": {
        "id": "8-NNZgDRyVO3"
      },
      "execution_count": 8,
      "outputs": []
    },
    {
      "cell_type": "code",
      "source": [
        "ans = pd.DataFrame(list(coef_dict.items()),\n",
        "                   columns=['pr', 'coef'])\n",
        "ans = ans.assign(PRODUCT_ID = ans.pr // 10 )\n",
        "ans = ans.assign(STORE_ID = ans.pr % 10)\n",
        "ans=ans.drop(['pr'], 1)\n",
        "ans.to_csv('first.csv', index=False)"
      ],
      "metadata": {
        "id": "EFU9DkqoyVSZ"
      },
      "execution_count": 9,
      "outputs": []
    },
    {
      "cell_type": "code",
      "source": [
        "df_log = tmp0\n",
        "df_log = df_log.assign(LOG_PRICE=np.log(df_log.PRICE))"
      ],
      "metadata": {
        "id": "CFzMMs8k3Jfh"
      },
      "execution_count": 10,
      "outputs": []
    },
    {
      "cell_type": "code",
      "source": [
        "coef_dict_log = dict()\n",
        "prods_list = []\n",
        "coef_list = []\n",
        "for prod in df_log['PRODUCT_ID'].unique():\n",
        "    df=df_log[tmp0['PRODUCT_ID']==prod]\n",
        "    X = df['LOG_PRICE'].values.reshape(-1,1)\n",
        "    y = df['QNT']\n",
        "\n",
        "    reg_qnt0 = LinearRegression()\n",
        "    reg_qnt0.fit(X, y)\n",
        "    coef_dict_log[prod] = [reg_qnt0.intercept_, reg_qnt0.coef_[0]]\n",
        "answer_log = pd.DataFrame(list(coef_dict_log.items()),\n",
        "                   columns=['pr', 'coef'])\n",
        "answer_log = answer_log.assign(PRODUCT_ID = answer_log.pr // 10 )\n",
        "answer_log = answer_log.assign(STORE_ID = answer_log.pr % 10)\n",
        "answer_log=answer_log.drop(['pr'], 1)\n",
        "answer_log.to_csv('fourth.csv', index=False)"
      ],
      "metadata": {
        "id": "_acylVhM3Ji4"
      },
      "execution_count": 11,
      "outputs": []
    },
    {
      "cell_type": "code",
      "source": [
        "coef_dict = dict()\n",
        "prods_list = []\n",
        "coef_list = []\n",
        "for prod in tmp0['PRODUCT_ID'].unique():\n",
        "    df=tmp0[tmp0['PRODUCT_ID']==prod]\n",
        "    X = df['PRICE'].values.reshape(-1,1)\n",
        "    y = df['QNT']\n",
        "\n",
        "    reg_qnt0 = LinearRegression()\n",
        "    reg_qnt0.fit(X, y)\n",
        "    coef_dict[prod] = [reg_qnt0.intercept_, reg_qnt0.coef_[0]]\n",
        "answer = pd.DataFrame(list(coef_dict.items()),\n",
        "                   columns=['pr', 'coef'])\n",
        "answer = answer.assign(PRODUCT_ID = answer.pr // 10 )\n",
        "answer = answer.assign(STORE_ID = answer.pr % 10)\n",
        "answer=answer.drop(['pr'], 1)\n",
        "answer.to_csv('without_promo_first.csv', index=False) "
      ],
      "metadata": {
        "id": "B4ux4-pM3Jwl"
      },
      "execution_count": 12,
      "outputs": []
    },
    {
      "cell_type": "code",
      "source": [
        "coef_dict_log = dict()\n",
        "prods_list = []\n",
        "coef_list = []\n",
        "for prod in df_log['PRODUCT_ID'].unique():\n",
        "    df=df_log[tmp0['PRODUCT_ID']==prod]\n",
        "    X = df['LOG_PRICE'].values.reshape(-1,1)\n",
        "    y = df['QNT']\n",
        "\n",
        "    reg_qnt0 = LinearRegression()\n",
        "    reg_qnt0.fit(X, y)\n",
        "    coef_dict_log[prod] = [reg_qnt0.intercept_, reg_qnt0.coef_[0]]\n",
        "answer_log = pd.DataFrame(list(coef_dict_log.items()),\n",
        "                   columns=['pr', 'coef'])\n",
        "answer_log = answer_log.assign(PRODUCT_ID = answer_log.pr // 10 )\n",
        "answer_log = answer_log.assign(STORE_ID = answer_log.pr % 10)\n",
        "answer_log=answer_log.drop(['pr'], 1)\n",
        "answer_log.to_csv('without_promo_log_first')"
      ],
      "metadata": {
        "id": "C1cpJGBk5nrd"
      },
      "execution_count": 13,
      "outputs": []
    },
    {
      "cell_type": "code",
      "source": [
        "coef_dict = dict()\n",
        "prods_list = []\n",
        "coef_list = []\n",
        "for prod in df_plus['PRODUCT_ID'].unique():\n",
        "    df1=df_plus[df_plus['PRODUCT_ID']==prod]\n",
        "    X = df1['price_plus'].values.reshape(-1,1)\n",
        "    y = df1['QNT']\n",
        "\n",
        "    reg_qnt0 = LinearRegression()\n",
        "    reg_qnt0.fit(X, y)\n",
        "    coef_dict[prod] = [reg_qnt0.intercept_, reg_qnt0.coef_[0]]\n",
        "    coef_dict\n",
        "ans = pd.DataFrame(list(coef_dict.items()),\n",
        "                   columns=['pr', 'coef'])\n",
        "ans = ans.assign(PRODUCT_ID = ans.pr // 10 )\n",
        "ans = ans.assign(STORE_ID = ans.pr % 10)\n",
        "ans=ans.drop(['pr'], 1)\n",
        "c = np.vstack(ans['coef'])\n",
        "ans['coef_b'] = c[:, 0]\n",
        "ans['coef_k'] = c[:, 1]\n",
        "ans = ans.drop('coef', axis=1)\n",
        "ans.to_csv('plus1.csv', index=False)"
      ],
      "metadata": {
        "id": "OvGjT5te5nuq"
      },
      "execution_count": 14,
      "outputs": []
    },
    {
      "cell_type": "code",
      "source": [
        "df_plus_log = df_plus\n",
        "df_plus_log = df_plus_log.assign(LOG_PRICE=np.log(df_plus_log.price_plus))"
      ],
      "metadata": {
        "id": "b0cSTp-U5nxm"
      },
      "execution_count": 15,
      "outputs": []
    },
    {
      "cell_type": "code",
      "source": [
        "coef_dict_log = dict()\n",
        "prods_list = []\n",
        "coef_list = []\n",
        "for prod in df_plus_log['PRODUCT_ID'].unique():\n",
        "    df=df_plus_log[df_plus_log['PRODUCT_ID']==prod]\n",
        "    X = df['LOG_PRICE'].values.reshape(-1,1)\n",
        "    y = df['QNT']\n",
        "    reg_qnt0 = LinearRegression()\n",
        "    reg_qnt0.fit(X, y)\n",
        "    coef_dict_log[prod] = [reg_qnt0.intercept_, reg_qnt0.coef_[0]]\n",
        "answer_log = pd.DataFrame(list(coef_dict_log.items()),\n",
        "                   columns=['pr', 'coef'])\n",
        "answer_log = answer_log.assign(PRODUCT_ID = answer_log.pr // 10 )\n",
        "answer_log = answer_log.assign(STORE_ID = answer_log.pr % 10)\n",
        "answer_log=answer_log.drop(['pr'], 1)\n",
        "c = np.vstack(answer_log['coef'])\n",
        "answer_log['coef_b'] = c[:, 0]\n",
        "answer_log['coef_k'] = c[:, 1]\n",
        "answer_log = answer_log.drop('coef', axis=1)\n",
        "answer_log.to_csv('plus2.csv', index=False)"
      ],
      "metadata": {
        "id": "lACfO_zC8zss"
      },
      "execution_count": 16,
      "outputs": []
    },
    {
      "cell_type": "code",
      "source": [
        "data4 = pd.read_csv('plus2.csv', sep = ',')\n",
        "data5 = pd.read_csv('plus1.csv', sep = ',')"
      ],
      "metadata": {
        "id": "VOE7Wip48zvC"
      },
      "execution_count": 17,
      "outputs": []
    },
    {
      "cell_type": "code",
      "source": [
        "data5['coef_k'].loc[data5['coef_k'] > 2.8] = -1.633449\n",
        "data5.to_csv('1605(3).csv', index=False)\n",
        "data5['coef_k'].loc[data5['coef_k'] > 0.000000] = -1.633449\n",
        "data5.to_csv('1605(2).csv', index=False)\n",
        "data5['coef_k'].loc[data5['coef_k'] >= 0.000000] = -1.633449\n",
        "data5.to_csv('1605(1).csv', index=False)"
      ],
      "metadata": {
        "id": "SuBI3cOF8zyY"
      },
      "execution_count": 18,
      "outputs": []
    },
    {
      "cell_type": "code",
      "source": [
        "tmp1=pd.read_csv('data/start_without_promo.csv', sep = ',')"
      ],
      "metadata": {
        "id": "alqK0Ww3-FSi"
      },
      "execution_count": 19,
      "outputs": []
    },
    {
      "cell_type": "code",
      "source": [
        "coef_dict = dict()\n",
        "prods_list = []\n",
        "coef_list = []\n",
        "for prod in tmp['PRODUCT_ID'].unique():\n",
        "    df=tmp[tmp['PRODUCT_ID']==prod]\n",
        "    X = df['PRICE'].values.reshape(-1,1)\n",
        "    y = df['QNT']\n",
        "    reg_qnt0 = Ridge(alpha = 0.2)\n",
        "    reg_qnt0.fit(X, y)\n",
        "    coef_dict[prod] = [reg_qnt0.intercept_, reg_qnt0.coef_[0]]\n",
        "ans = pd.DataFrame(list(coef_dict.items()),\n",
        "                   columns=['pr', 'coef'])\n",
        "ans = ans.assign(PRODUCT_ID = ans.pr // 10 )\n",
        "ans = ans.assign(STORE_ID = ans.pr % 10)\n",
        "ans=ans.drop(['pr'], 1)\n",
        "c = np.vstack(ans['coef'])\n",
        "ans['coef_b'] = c[:, 0]\n",
        "ans['coef_k'] = c[:, 1]\n",
        "ans = ans.drop('coef', axis=1)\n",
        "ans.to_csv('Ridge_first.csv', index=False)"
      ],
      "metadata": {
        "id": "iD0icXwq-FWF"
      },
      "execution_count": 20,
      "outputs": []
    },
    {
      "cell_type": "code",
      "source": [
        "coef_dict = dict()\n",
        "prods_list = []\n",
        "coef_list = []\n",
        "for prod in tmp['PRODUCT_ID'].unique():\n",
        "    df=tmp[tmp['PRODUCT_ID']==prod]\n",
        "    X = df['PRICE'].values.reshape(-1,1)\n",
        "    y = df['QNT']\n",
        "    reg_qnt0 = ElasticNet(normalize=True,alpha=0.001,l1_ratio=0.75)\n",
        "    reg_qnt0.fit(X, y)\n",
        "    coef_dict[prod] = [reg_qnt0.intercept_, reg_qnt0.coef_[0]]\n",
        "ans = pd.DataFrame(list(coef_dict.items()),\n",
        "                   columns=['pr', 'coef'])\n",
        "ans = ans.assign(PRODUCT_ID = ans.pr // 10 )\n",
        "ans = ans.assign(STORE_ID = ans.pr % 10)\n",
        "ans=ans.drop(['pr'], 1)\n",
        "c = np.vstack(ans['coef'])\n",
        "ans['coef_b'] = c[:, 0]\n",
        "ans['coef_k'] = c[:, 1]\n",
        "ans = ans.drop('coef', axis=1)\n",
        "ans.to_csv('ElasticNet_first.csv', index=False)"
      ],
      "metadata": {
        "id": "8x3Sy4Rp-fxW"
      },
      "execution_count": 21,
      "outputs": []
    },
    {
      "cell_type": "code",
      "source": [
        "coef_dict = dict()\n",
        "prods_list = []\n",
        "coef_list = []\n",
        "for prod in tmp['PRODUCT_ID'].unique():\n",
        "    df=tmp[tmp['PRODUCT_ID']==prod]\n",
        "    X = df['PRICE'].values.reshape(-1,1)\n",
        "    y = df['QNT']\n",
        "    reg_qnt0 = Lasso(alpha = 0.0001)\n",
        "    reg_qnt0.fit(X, y)\n",
        "    coef_dict[prod] = [reg_qnt0.intercept_, reg_qnt0.coef_[0]]\n",
        "ans = pd.DataFrame(list(coef_dict.items()),\n",
        "                   columns=['pr', 'coef'])\n",
        "ans = ans.assign(PRODUCT_ID = ans.pr // 10 )\n",
        "ans = ans.assign(STORE_ID = ans.pr % 10)\n",
        "ans=ans.drop(['pr'], 1)\n",
        "c = np.vstack(ans['coef'])\n",
        "ans['coef_b'] = c[:, 0]\n",
        "ans['coef_k'] = c[:, 1]\n",
        "ans = ans.drop('coef', axis=1)\n",
        "ans.to_csv('Lasso_first.csv', index=False)\n",
        "ans"
      ],
      "metadata": {
        "colab": {
          "base_uri": "https://localhost:8080/",
          "height": 423
        },
        "id": "WRQpoMyU-f03",
        "outputId": "eaf751ea-c726-4ef2-8823-0b56c3611f1d"
      },
      "execution_count": 22,
      "outputs": [
        {
          "output_type": "execute_result",
          "data": {
            "text/plain": [
              "     PRODUCT_ID  STORE_ID     coef_b    coef_k\n",
              "0       3046357         0   0.751724  0.128407\n",
              "1       3046358         0   1.482198 -0.061359\n",
              "2       3047286         0   0.896222  0.092763\n",
              "3       3047287         0   1.121789  0.079844\n",
              "4       3047290         0   1.446377 -0.042932\n",
              "..          ...       ...        ...       ...\n",
              "142     3396472         1   1.000000  0.000000\n",
              "143     3396473         1   8.476413 -1.878127\n",
              "144     3396474         1  38.565535 -8.889718\n",
              "145     3396475         1   1.000000  0.000000\n",
              "146     3397256         1   1.000000  0.000000\n",
              "\n",
              "[147 rows x 4 columns]"
            ],
            "text/html": [
              "\n",
              "  <div id=\"df-40d9842e-d400-4012-85f3-e7d3a513983a\">\n",
              "    <div class=\"colab-df-container\">\n",
              "      <div>\n",
              "<style scoped>\n",
              "    .dataframe tbody tr th:only-of-type {\n",
              "        vertical-align: middle;\n",
              "    }\n",
              "\n",
              "    .dataframe tbody tr th {\n",
              "        vertical-align: top;\n",
              "    }\n",
              "\n",
              "    .dataframe thead th {\n",
              "        text-align: right;\n",
              "    }\n",
              "</style>\n",
              "<table border=\"1\" class=\"dataframe\">\n",
              "  <thead>\n",
              "    <tr style=\"text-align: right;\">\n",
              "      <th></th>\n",
              "      <th>PRODUCT_ID</th>\n",
              "      <th>STORE_ID</th>\n",
              "      <th>coef_b</th>\n",
              "      <th>coef_k</th>\n",
              "    </tr>\n",
              "  </thead>\n",
              "  <tbody>\n",
              "    <tr>\n",
              "      <th>0</th>\n",
              "      <td>3046357</td>\n",
              "      <td>0</td>\n",
              "      <td>0.751724</td>\n",
              "      <td>0.128407</td>\n",
              "    </tr>\n",
              "    <tr>\n",
              "      <th>1</th>\n",
              "      <td>3046358</td>\n",
              "      <td>0</td>\n",
              "      <td>1.482198</td>\n",
              "      <td>-0.061359</td>\n",
              "    </tr>\n",
              "    <tr>\n",
              "      <th>2</th>\n",
              "      <td>3047286</td>\n",
              "      <td>0</td>\n",
              "      <td>0.896222</td>\n",
              "      <td>0.092763</td>\n",
              "    </tr>\n",
              "    <tr>\n",
              "      <th>3</th>\n",
              "      <td>3047287</td>\n",
              "      <td>0</td>\n",
              "      <td>1.121789</td>\n",
              "      <td>0.079844</td>\n",
              "    </tr>\n",
              "    <tr>\n",
              "      <th>4</th>\n",
              "      <td>3047290</td>\n",
              "      <td>0</td>\n",
              "      <td>1.446377</td>\n",
              "      <td>-0.042932</td>\n",
              "    </tr>\n",
              "    <tr>\n",
              "      <th>...</th>\n",
              "      <td>...</td>\n",
              "      <td>...</td>\n",
              "      <td>...</td>\n",
              "      <td>...</td>\n",
              "    </tr>\n",
              "    <tr>\n",
              "      <th>142</th>\n",
              "      <td>3396472</td>\n",
              "      <td>1</td>\n",
              "      <td>1.000000</td>\n",
              "      <td>0.000000</td>\n",
              "    </tr>\n",
              "    <tr>\n",
              "      <th>143</th>\n",
              "      <td>3396473</td>\n",
              "      <td>1</td>\n",
              "      <td>8.476413</td>\n",
              "      <td>-1.878127</td>\n",
              "    </tr>\n",
              "    <tr>\n",
              "      <th>144</th>\n",
              "      <td>3396474</td>\n",
              "      <td>1</td>\n",
              "      <td>38.565535</td>\n",
              "      <td>-8.889718</td>\n",
              "    </tr>\n",
              "    <tr>\n",
              "      <th>145</th>\n",
              "      <td>3396475</td>\n",
              "      <td>1</td>\n",
              "      <td>1.000000</td>\n",
              "      <td>0.000000</td>\n",
              "    </tr>\n",
              "    <tr>\n",
              "      <th>146</th>\n",
              "      <td>3397256</td>\n",
              "      <td>1</td>\n",
              "      <td>1.000000</td>\n",
              "      <td>0.000000</td>\n",
              "    </tr>\n",
              "  </tbody>\n",
              "</table>\n",
              "<p>147 rows × 4 columns</p>\n",
              "</div>\n",
              "      <button class=\"colab-df-convert\" onclick=\"convertToInteractive('df-40d9842e-d400-4012-85f3-e7d3a513983a')\"\n",
              "              title=\"Convert this dataframe to an interactive table.\"\n",
              "              style=\"display:none;\">\n",
              "        \n",
              "  <svg xmlns=\"http://www.w3.org/2000/svg\" height=\"24px\"viewBox=\"0 0 24 24\"\n",
              "       width=\"24px\">\n",
              "    <path d=\"M0 0h24v24H0V0z\" fill=\"none\"/>\n",
              "    <path d=\"M18.56 5.44l.94 2.06.94-2.06 2.06-.94-2.06-.94-.94-2.06-.94 2.06-2.06.94zm-11 1L8.5 8.5l.94-2.06 2.06-.94-2.06-.94L8.5 2.5l-.94 2.06-2.06.94zm10 10l.94 2.06.94-2.06 2.06-.94-2.06-.94-.94-2.06-.94 2.06-2.06.94z\"/><path d=\"M17.41 7.96l-1.37-1.37c-.4-.4-.92-.59-1.43-.59-.52 0-1.04.2-1.43.59L10.3 9.45l-7.72 7.72c-.78.78-.78 2.05 0 2.83L4 21.41c.39.39.9.59 1.41.59.51 0 1.02-.2 1.41-.59l7.78-7.78 2.81-2.81c.8-.78.8-2.07 0-2.86zM5.41 20L4 18.59l7.72-7.72 1.47 1.35L5.41 20z\"/>\n",
              "  </svg>\n",
              "      </button>\n",
              "      \n",
              "  <style>\n",
              "    .colab-df-container {\n",
              "      display:flex;\n",
              "      flex-wrap:wrap;\n",
              "      gap: 12px;\n",
              "    }\n",
              "\n",
              "    .colab-df-convert {\n",
              "      background-color: #E8F0FE;\n",
              "      border: none;\n",
              "      border-radius: 50%;\n",
              "      cursor: pointer;\n",
              "      display: none;\n",
              "      fill: #1967D2;\n",
              "      height: 32px;\n",
              "      padding: 0 0 0 0;\n",
              "      width: 32px;\n",
              "    }\n",
              "\n",
              "    .colab-df-convert:hover {\n",
              "      background-color: #E2EBFA;\n",
              "      box-shadow: 0px 1px 2px rgba(60, 64, 67, 0.3), 0px 1px 3px 1px rgba(60, 64, 67, 0.15);\n",
              "      fill: #174EA6;\n",
              "    }\n",
              "\n",
              "    [theme=dark] .colab-df-convert {\n",
              "      background-color: #3B4455;\n",
              "      fill: #D2E3FC;\n",
              "    }\n",
              "\n",
              "    [theme=dark] .colab-df-convert:hover {\n",
              "      background-color: #434B5C;\n",
              "      box-shadow: 0px 1px 3px 1px rgba(0, 0, 0, 0.15);\n",
              "      filter: drop-shadow(0px 1px 2px rgba(0, 0, 0, 0.3));\n",
              "      fill: #FFFFFF;\n",
              "    }\n",
              "  </style>\n",
              "\n",
              "      <script>\n",
              "        const buttonEl =\n",
              "          document.querySelector('#df-40d9842e-d400-4012-85f3-e7d3a513983a button.colab-df-convert');\n",
              "        buttonEl.style.display =\n",
              "          google.colab.kernel.accessAllowed ? 'block' : 'none';\n",
              "\n",
              "        async function convertToInteractive(key) {\n",
              "          const element = document.querySelector('#df-40d9842e-d400-4012-85f3-e7d3a513983a');\n",
              "          const dataTable =\n",
              "            await google.colab.kernel.invokeFunction('convertToInteractive',\n",
              "                                                     [key], {});\n",
              "          if (!dataTable) return;\n",
              "\n",
              "          const docLinkHtml = 'Like what you see? Visit the ' +\n",
              "            '<a target=\"_blank\" href=https://colab.research.google.com/notebooks/data_table.ipynb>data table notebook</a>'\n",
              "            + ' to learn more about interactive tables.';\n",
              "          element.innerHTML = '';\n",
              "          dataTable['output_type'] = 'display_data';\n",
              "          await google.colab.output.renderOutput(dataTable, element);\n",
              "          const docLink = document.createElement('div');\n",
              "          docLink.innerHTML = docLinkHtml;\n",
              "          element.appendChild(docLink);\n",
              "        }\n",
              "      </script>\n",
              "    </div>\n",
              "  </div>\n",
              "  "
            ]
          },
          "metadata": {},
          "execution_count": 22
        }
      ]
    }
  ]
}